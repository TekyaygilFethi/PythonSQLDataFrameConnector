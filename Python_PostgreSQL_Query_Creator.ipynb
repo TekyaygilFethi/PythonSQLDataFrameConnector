{
  "nbformat": 4,
  "nbformat_minor": 0,
  "metadata": {
    "colab": {
      "name": "Python PostgreSQL Query Creator.ipynb",
      "provenance": [],
      "collapsed_sections": [],
      "authorship_tag": "ABX9TyMvoqCnaxL3ww4hhgEXdzXp",
      "include_colab_link": true
    },
    "kernelspec": {
      "name": "python3",
      "display_name": "Python 3"
    },
    "language_info": {
      "name": "python"
    }
  },
  "cells": [
    {
      "cell_type": "markdown",
      "metadata": {
        "id": "view-in-github",
        "colab_type": "text"
      },
      "source": [
        "<a href=\"https://colab.research.google.com/github/TekyaygilFethi/PythonSQLDataFrameConnector/blob/main/Python_PostgreSQL_Query_Creator.ipynb\" target=\"_parent\"><img src=\"https://colab.research.google.com/assets/colab-badge.svg\" alt=\"Open In Colab\"/></a>"
      ]
    },
    {
      "cell_type": "markdown",
      "source": [
        "# MODULE"
      ],
      "metadata": {
        "id": "1kUDfwqSOER_"
      }
    },
    {
      "cell_type": "code",
      "source": [
        "import psycopg2\n",
        "import psycopg2.extras\n",
        "\n",
        "class PostgreSQLQueryCreator():\n",
        "  def __init__(self):\n",
        "    self.cursor = self.__create_connection()\n",
        "\n",
        "  def __create_connection(self):\n",
        "    conn = psycopg2.connect(\n",
        "      database=\"\", user='', password='', host='', port= '5432'\n",
        "    ) \n",
        "    conn.autocommit = True\n",
        "\n",
        "    return conn.cursor()\n",
        "\n",
        "  @staticmethod\n",
        "  def __create_sql_for_table_creation(table_name, df):\n",
        "    create_table_sql = f\"CREATE TABLE {table_name}( ID SERIAL, \"\n",
        "\n",
        "    df_col_types = {k:str(v[0]) for k,v in pd.DataFrame(df.dtypes).T.to_dict('list').items()}\n",
        "    df_col_types\n",
        "\n",
        "    for k,v in df_col_types.items():\n",
        "      db_dtype = \"\"\n",
        "      if v == \"object\" or v == \"datetime64[ns]\":\n",
        "        db_dtype = \"varchar(500)\" \n",
        "      elif v == \"int64\":\n",
        "        db_dtype = \"integer\"\n",
        "      elif v == \"float64\":\n",
        "        db_dtype = \"float\"\n",
        "\n",
        "      create_table_sql += f\"{k} {db_dtype},\"\n",
        "\n",
        "    create_table_sql = create_table_sql[:-1]\n",
        "    create_table_sql += \")\"\n",
        "\n",
        "    return create_table_sql\n",
        "\n",
        "  @staticmethod\n",
        "  def __create_sql_for_table_insertion(table_name, df):\n",
        "    sql = f\"INSERT INTO {table_name} ({','.join(df.columns)}) VALUES({('%s, ' * len(df.columns))[:-2]})\" ## we are using %s for prevent sql injection\n",
        "    return sql\n",
        "\n",
        "  def create_table(self, table_name, df):\n",
        "    try:\n",
        "      table_creation_sql = self.__create_sql_for_table_creation(table_name, df)\n",
        "      self.cursor.execute(table_creation_sql)\n",
        "      print(\"Table has been created!!\")\n",
        "    except Exception as msg:\n",
        "      print(\"Table already exists!! Error:\" + str(msg))\n",
        "\n",
        "  def insert_into_table(self, table_name, df):\n",
        "    table_insertion_sql = self.__create_sql_for_table_insertion(table_name, df)\n",
        "    vals = [tuple(row[1]) for row in df.iterrows()]\n",
        "    psycopg2.extras.execute_batch(self.cursor, table_insertion_sql, vals)\n",
        "    print(\"All data has been inserted!\")\n",
        "\n",
        "  def create_and_insert_table(self, table_name, df):\n",
        "    self.create_table(table_name, df)\n",
        "    self.insert_into_table(table_name, df)"
      ],
      "metadata": {
        "colab": {
          "base_uri": "https://localhost:8080/"
        },
        "id": "5lNd3pTTLPeV",
        "outputId": "4ec21251-4b31-4dc4-9153-9cb97a540a0b"
      },
      "execution_count": 1,
      "outputs": [
        {
          "output_type": "stream",
          "name": "stderr",
          "text": [
            "/usr/local/lib/python3.7/dist-packages/psycopg2/__init__.py:144: UserWarning: The psycopg2 wheel package will be renamed from release 2.8; in order to keep installing from binary please use \"pip install psycopg2-binary\" instead. For details see: <http://initd.org/psycopg/docs/install.html#binary-install-from-pypi>.\n",
            "  \"\"\")\n"
          ]
        }
      ]
    },
    {
      "cell_type": "markdown",
      "source": [
        "# EXAMPLE"
      ],
      "metadata": {
        "id": "_ftu7lJHOGxk"
      }
    },
    {
      "cell_type": "code",
      "source": [
        "import pandas as pd\n",
        "# from SQLQueryCreator import PostgreSQLQueryCreator"
      ],
      "metadata": {
        "id": "wLDuYd8rMX5e"
      },
      "execution_count": 2,
      "outputs": []
    },
    {
      "cell_type": "code",
      "execution_count": 3,
      "metadata": {
        "id": "7qSDyD1fKsVJ"
      },
      "outputs": [],
      "source": [
        "d = {\n",
        "    \"Name\": [\"Obi-Wan Kenobi\", \"Anakin Skywalker\", \"Count Dooku\", \"Darth Maul\"], \n",
        "    \"LightsaberColor\": [\"Blue\", \"Blue\", \"Red\", \"Red\"],\n",
        "    \"Age\": [29, 19, 80, 32]\n",
        "    }\n",
        "\n",
        "hero_df = pd.DataFrame().from_dict(d)"
      ]
    },
    {
      "cell_type": "code",
      "source": [
        "hero_df"
      ],
      "metadata": {
        "colab": {
          "base_uri": "https://localhost:8080/",
          "height": 175
        },
        "id": "dNCdvp2DMSXT",
        "outputId": "656fb101-c08a-4ee6-f925-e8b20833f9eb"
      },
      "execution_count": 4,
      "outputs": [
        {
          "output_type": "execute_result",
          "data": {
            "text/html": [
              "\n",
              "  <div id=\"df-79ccf631-d41d-4368-b148-468d0b6440ad\">\n",
              "    <div class=\"colab-df-container\">\n",
              "      <div>\n",
              "<style scoped>\n",
              "    .dataframe tbody tr th:only-of-type {\n",
              "        vertical-align: middle;\n",
              "    }\n",
              "\n",
              "    .dataframe tbody tr th {\n",
              "        vertical-align: top;\n",
              "    }\n",
              "\n",
              "    .dataframe thead th {\n",
              "        text-align: right;\n",
              "    }\n",
              "</style>\n",
              "<table border=\"1\" class=\"dataframe\">\n",
              "  <thead>\n",
              "    <tr style=\"text-align: right;\">\n",
              "      <th></th>\n",
              "      <th>Name</th>\n",
              "      <th>LightsaberColor</th>\n",
              "      <th>Age</th>\n",
              "    </tr>\n",
              "  </thead>\n",
              "  <tbody>\n",
              "    <tr>\n",
              "      <th>0</th>\n",
              "      <td>Obi-Wan Kenobi</td>\n",
              "      <td>Blue</td>\n",
              "      <td>29</td>\n",
              "    </tr>\n",
              "    <tr>\n",
              "      <th>1</th>\n",
              "      <td>Anakin Skywalker</td>\n",
              "      <td>Blue</td>\n",
              "      <td>19</td>\n",
              "    </tr>\n",
              "    <tr>\n",
              "      <th>2</th>\n",
              "      <td>Count Dooku</td>\n",
              "      <td>Red</td>\n",
              "      <td>80</td>\n",
              "    </tr>\n",
              "    <tr>\n",
              "      <th>3</th>\n",
              "      <td>Darth Maul</td>\n",
              "      <td>Red</td>\n",
              "      <td>32</td>\n",
              "    </tr>\n",
              "  </tbody>\n",
              "</table>\n",
              "</div>\n",
              "      <button class=\"colab-df-convert\" onclick=\"convertToInteractive('df-79ccf631-d41d-4368-b148-468d0b6440ad')\"\n",
              "              title=\"Convert this dataframe to an interactive table.\"\n",
              "              style=\"display:none;\">\n",
              "        \n",
              "  <svg xmlns=\"http://www.w3.org/2000/svg\" height=\"24px\"viewBox=\"0 0 24 24\"\n",
              "       width=\"24px\">\n",
              "    <path d=\"M0 0h24v24H0V0z\" fill=\"none\"/>\n",
              "    <path d=\"M18.56 5.44l.94 2.06.94-2.06 2.06-.94-2.06-.94-.94-2.06-.94 2.06-2.06.94zm-11 1L8.5 8.5l.94-2.06 2.06-.94-2.06-.94L8.5 2.5l-.94 2.06-2.06.94zm10 10l.94 2.06.94-2.06 2.06-.94-2.06-.94-.94-2.06-.94 2.06-2.06.94z\"/><path d=\"M17.41 7.96l-1.37-1.37c-.4-.4-.92-.59-1.43-.59-.52 0-1.04.2-1.43.59L10.3 9.45l-7.72 7.72c-.78.78-.78 2.05 0 2.83L4 21.41c.39.39.9.59 1.41.59.51 0 1.02-.2 1.41-.59l7.78-7.78 2.81-2.81c.8-.78.8-2.07 0-2.86zM5.41 20L4 18.59l7.72-7.72 1.47 1.35L5.41 20z\"/>\n",
              "  </svg>\n",
              "      </button>\n",
              "      \n",
              "  <style>\n",
              "    .colab-df-container {\n",
              "      display:flex;\n",
              "      flex-wrap:wrap;\n",
              "      gap: 12px;\n",
              "    }\n",
              "\n",
              "    .colab-df-convert {\n",
              "      background-color: #E8F0FE;\n",
              "      border: none;\n",
              "      border-radius: 50%;\n",
              "      cursor: pointer;\n",
              "      display: none;\n",
              "      fill: #1967D2;\n",
              "      height: 32px;\n",
              "      padding: 0 0 0 0;\n",
              "      width: 32px;\n",
              "    }\n",
              "\n",
              "    .colab-df-convert:hover {\n",
              "      background-color: #E2EBFA;\n",
              "      box-shadow: 0px 1px 2px rgba(60, 64, 67, 0.3), 0px 1px 3px 1px rgba(60, 64, 67, 0.15);\n",
              "      fill: #174EA6;\n",
              "    }\n",
              "\n",
              "    [theme=dark] .colab-df-convert {\n",
              "      background-color: #3B4455;\n",
              "      fill: #D2E3FC;\n",
              "    }\n",
              "\n",
              "    [theme=dark] .colab-df-convert:hover {\n",
              "      background-color: #434B5C;\n",
              "      box-shadow: 0px 1px 3px 1px rgba(0, 0, 0, 0.15);\n",
              "      filter: drop-shadow(0px 1px 2px rgba(0, 0, 0, 0.3));\n",
              "      fill: #FFFFFF;\n",
              "    }\n",
              "  </style>\n",
              "\n",
              "      <script>\n",
              "        const buttonEl =\n",
              "          document.querySelector('#df-79ccf631-d41d-4368-b148-468d0b6440ad button.colab-df-convert');\n",
              "        buttonEl.style.display =\n",
              "          google.colab.kernel.accessAllowed ? 'block' : 'none';\n",
              "\n",
              "        async function convertToInteractive(key) {\n",
              "          const element = document.querySelector('#df-79ccf631-d41d-4368-b148-468d0b6440ad');\n",
              "          const dataTable =\n",
              "            await google.colab.kernel.invokeFunction('convertToInteractive',\n",
              "                                                     [key], {});\n",
              "          if (!dataTable) return;\n",
              "\n",
              "          const docLinkHtml = 'Like what you see? Visit the ' +\n",
              "            '<a target=\"_blank\" href=https://colab.research.google.com/notebooks/data_table.ipynb>data table notebook</a>'\n",
              "            + ' to learn more about interactive tables.';\n",
              "          element.innerHTML = '';\n",
              "          dataTable['output_type'] = 'display_data';\n",
              "          await google.colab.output.renderOutput(dataTable, element);\n",
              "          const docLink = document.createElement('div');\n",
              "          docLink.innerHTML = docLinkHtml;\n",
              "          element.appendChild(docLink);\n",
              "        }\n",
              "      </script>\n",
              "    </div>\n",
              "  </div>\n",
              "  "
            ],
            "text/plain": [
              "               Name LightsaberColor  Age\n",
              "0    Obi-Wan Kenobi            Blue   29\n",
              "1  Anakin Skywalker            Blue   19\n",
              "2       Count Dooku             Red   80\n",
              "3        Darth Maul             Red   32"
            ]
          },
          "metadata": {},
          "execution_count": 4
        }
      ]
    },
    {
      "cell_type": "code",
      "source": [
        "db_service = PostgreSQLQueryCreator()"
      ],
      "metadata": {
        "id": "yVgYBnLmSM4q"
      },
      "execution_count": 5,
      "outputs": []
    },
    {
      "cell_type": "code",
      "source": [
        "db_service.create_table(\"herotable\", hero_df)\n",
        "db_service.insert_into_table(\"herotable\", hero_df)"
      ],
      "metadata": {
        "colab": {
          "base_uri": "https://localhost:8080/"
        },
        "id": "zDc_5f7kSQwU",
        "outputId": "4572b10e-3917-4753-9dc8-58687fee7dbf"
      },
      "execution_count": 6,
      "outputs": [
        {
          "output_type": "stream",
          "name": "stdout",
          "text": [
            "Table has been created!!\n",
            "All data has been inserted!\n"
          ]
        }
      ]
    }
  ]
}